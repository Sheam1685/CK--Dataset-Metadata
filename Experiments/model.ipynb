{
 "cells": [
  {
   "cell_type": "code",
   "execution_count": 59,
   "metadata": {},
   "outputs": [],
   "source": [
    "import pandas as pd\n",
    "import numpy as np\n",
    "import os"
   ]
  },
  {
   "cell_type": "code",
   "execution_count": 60,
   "metadata": {},
   "outputs": [],
   "source": [
    "df_ckplus_dataset = pd.read_csv(\"dataset/ckplus_dataset.csv\")"
   ]
  },
  {
   "cell_type": "code",
   "execution_count": 61,
   "metadata": {},
   "outputs": [],
   "source": [
    "def get_session(subject_id, session_id):\n",
    "    return df_ckplus_dataset[(df_ckplus_dataset[\"subject_id\"] == subject_id) & (df_ckplus_dataset[\"session_id\"] == session_id)]"
   ]
  },
  {
   "cell_type": "code",
   "execution_count": 62,
   "metadata": {},
   "outputs": [],
   "source": [
    "def read_emotion_features(emotion):\n",
    "    distance_features = []\n",
    "    angle_features = []\n",
    "    with open(f\"features/{emotion}.txt\", \"r\") as file:\n",
    "        for line in file:\n",
    "            feature = line.strip().split()\n",
    "            feature = [int(value) for value in feature[0][2:-1].split(\",\")]\n",
    "            if len(feature) == 2:\n",
    "                distance_features.append(feature)\n",
    "            else:\n",
    "                angle_features.append(feature)\n",
    "    return distance_features, angle_features\n",
    "\n",
    "\n",
    "def load_emotion_features():\n",
    "    emotions = [\"anger\", \"disgust\", \"fear\", \"happiness\", \"sadness\", \"surprise\"]\n",
    "    emotion_features = {}\n",
    "    for emotion in emotions:\n",
    "        distance_features, angle_features = read_emotion_features(emotion)\n",
    "        emotion_features[emotion] = (distance_features, angle_features)\n",
    "    return emotion_features\n",
    "\n",
    "\n",
    "emotion_features = load_emotion_features()"
   ]
  },
  {
   "cell_type": "code",
   "execution_count": 63,
   "metadata": {},
   "outputs": [],
   "source": [
    "def euclidean_distance(a, b):\n",
    "    return np.sqrt((a[0] - b[0]) ** 2 + (a[1] - b[1]) ** 2)\n",
    "\n",
    "def smaller_angle(a, b, c):\n",
    "    a = np.array(a)\n",
    "    b = np.array(b)\n",
    "    c = np.array(c)\n",
    "    ba = a - b\n",
    "    bc = c - b\n",
    "    cosine = np.dot(ba, bc) / (np.linalg.norm(ba) * np.linalg.norm(bc))\n",
    "    return np.arccos(cosine) * 180 / np.pi\n",
    "\n",
    "\n",
    "def get_face_width(data):\n",
    "    point1 = data[f\"landmark_2\"].split(\" \")\n",
    "    point1 = [float(point1[0]), float(point1[1])]\n",
    "    point2 = data[f\"landmark_16\"].split(\" \")\n",
    "    point2 = [float(point2[0]), float(point2[1])]\n",
    "    return euclidean_distance(point1, point2)\n",
    "\n",
    "\n",
    "def generate_distance_features(data, distance_features_template):\n",
    "    distance_features = []\n",
    "    for feature in distance_features_template:\n",
    "        point1 = data[f\"landmark_{feature[0]}\"].split(\" \")\n",
    "        point1 = [float(point1[0]), float(point1[1])]\n",
    "        point2 = data[f\"landmark_{feature[1]}\"].split(\" \")\n",
    "        point2 = [float(point2[0]), float(point2[1])]\n",
    "\n",
    "        distance = euclidean_distance(point1, point2)\n",
    "        distance_features.append(distance)\n",
    "\n",
    "    distance_features = np.array(distance_features)\n",
    "    distance_features = distance_features / get_face_width(data)\n",
    "\n",
    "    return distance_features\n",
    "\n",
    "\n",
    "def generate_angle_features(data, angle_features_template):\n",
    "    angle_features = []\n",
    "    for feature in angle_features_template:\n",
    "        point1 = data[f\"landmark_{feature[0]}\"].split(\" \")\n",
    "        point1 = [float(point1[0]), float(point1[1])]\n",
    "        point2 = data[f\"landmark_{feature[1]}\"].split(\" \")\n",
    "        point2 = [float(point2[0]), float(point2[1])]\n",
    "        point3 = data[f\"landmark_{feature[2]}\"].split(\" \")\n",
    "        point3 = [float(point3[0]), float(point3[1])]\n",
    "\n",
    "        angle = smaller_angle(point1, point2, point3)\n",
    "        angle_features.append(angle)\n",
    "\n",
    "    angle_features = np.array(angle_features)\n",
    "    angle_features = angle_features / 180\n",
    "\n",
    "    return angle_features"
   ]
  },
  {
   "cell_type": "code",
   "execution_count": 64,
   "metadata": {},
   "outputs": [],
   "source": [
    "def generate_features(data, feature_emotion, feature_type):\n",
    "    distance_features_template, angle_features_template = emotion_features[feature_emotion]\n",
    "\n",
    "    features = np.array([])\n",
    "\n",
    "    if feature_type == \"distance\" or feature_type == \"both\":\n",
    "        distance_features = generate_distance_features(data, distance_features_template)\n",
    "        features = np.concatenate((features, distance_features))\n",
    "\n",
    "    if feature_type == \"angle\" or feature_type == \"both\":\n",
    "        angle_features = generate_angle_features(data, angle_features_template)\n",
    "        features = np.concatenate((features, angle_features))\n",
    "\n",
    "    return features\n",
    "\n",
    "\n",
    "def get_features_from_df(df, feature_emotion, feature_type):\n",
    "    features = []\n",
    "    for index, row in df.iterrows():\n",
    "        features.append(generate_features(row, feature_emotion, feature_type))\n",
    "    return np.array(features)"
   ]
  },
  {
   "cell_type": "code",
   "execution_count": null,
   "metadata": {},
   "outputs": [],
   "source": []
  },
  {
   "cell_type": "code",
   "execution_count": 65,
   "metadata": {},
   "outputs": [],
   "source": [
    "features = get_features_from_df(df_ckplus_dataset[:5], \"anger\", \"both\")"
   ]
  },
  {
   "cell_type": "code",
   "execution_count": 66,
   "metadata": {},
   "outputs": [
    {
     "data": {
      "text/plain": [
       "array([[0.04805285, 0.05564052, 0.17266904, 0.17603197, 0.14024903,\n",
       "        0.13845739, 0.23161302, 0.17919203, 0.32334929, 0.72361381,\n",
       "        0.72102522, 0.20333555, 0.20094551, 0.22619378, 0.28310719,\n",
       "        0.24821964, 0.79697194, 0.81040163, 0.99680758, 0.99310617,\n",
       "        0.77325909, 0.74225232, 0.60151543],\n",
       "       [0.04726709, 0.0547055 , 0.1720145 , 0.17510849, 0.13910657,\n",
       "        0.13778077, 0.23288251, 0.17711922, 0.32250337, 0.72256593,\n",
       "        0.71937901, 0.20547048, 0.19661544, 0.22330049, 0.27886078,\n",
       "        0.24264232, 0.79338171, 0.80616933, 0.99416923, 0.99961729,\n",
       "        0.77392786, 0.7433632 , 0.61615058],\n",
       "       [0.045303  , 0.0522546 , 0.17023354, 0.17280074, 0.13690819,\n",
       "        0.13646913, 0.23562555, 0.17308128, 0.32065898, 0.72000764,\n",
       "        0.71558198, 0.20973325, 0.18678667, 0.21579811, 0.2674246 ,\n",
       "        0.22948863, 0.78641624, 0.79765907, 0.98691351, 0.98492734,\n",
       "        0.77524929, 0.74530936, 0.64815029],\n",
       "       [0.04037397, 0.04570236, 0.16523569, 0.16696122, 0.13367709,\n",
       "        0.13450636, 0.24100495, 0.16697526, 0.31697587, 0.71379703,\n",
       "        0.70715755, 0.21666154, 0.16546285, 0.19576794, 0.23559745,\n",
       "        0.19907539, 0.77589768, 0.78339206, 0.96622378, 0.94901109,\n",
       "        0.77732976, 0.74724296, 0.71279724],\n",
       "       [0.03344214, 0.0360844 , 0.15766334, 0.15877257, 0.13137696,\n",
       "        0.13306016, 0.24708946, 0.16245524, 0.31272866, 0.70525885,\n",
       "        0.6963839 , 0.22267285, 0.13824497, 0.16559503, 0.1869714 ,\n",
       "        0.15839911, 0.76788126, 0.77034463, 0.93418431, 0.90120502,\n",
       "        0.77903083, 0.74698068, 0.78964771]])"
      ]
     },
     "execution_count": 66,
     "metadata": {},
     "output_type": "execute_result"
    }
   ],
   "source": [
    "features"
   ]
  }
 ],
 "metadata": {
  "kernelspec": {
   "display_name": "Python 3",
   "language": "python",
   "name": "python3"
  },
  "language_info": {
   "codemirror_mode": {
    "name": "ipython",
    "version": 3
   },
   "file_extension": ".py",
   "mimetype": "text/x-python",
   "name": "python",
   "nbconvert_exporter": "python",
   "pygments_lexer": "ipython3",
   "version": "3.11.5"
  }
 },
 "nbformat": 4,
 "nbformat_minor": 2
}
