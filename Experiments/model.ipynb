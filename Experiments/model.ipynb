{
 "cells": [
  {
   "cell_type": "code",
   "execution_count": 27,
   "metadata": {},
   "outputs": [],
   "source": [
    "import pandas as pd\n",
    "import numpy as np\n",
    "import os"
   ]
  },
  {
   "cell_type": "code",
   "execution_count": 28,
   "metadata": {},
   "outputs": [],
   "source": [
    "df_ckplus_dataset = pd.read_csv(\"dataset/ckplus_dataset.csv\")"
   ]
  },
  {
   "cell_type": "code",
   "execution_count": 29,
   "metadata": {},
   "outputs": [],
   "source": [
    "def get_session(subject_id, session_id):\n",
    "    return df_ckplus_dataset[(df_ckplus_dataset[\"subject_id\"] == subject_id) & (df_ckplus_dataset[\"session_id\"] == session_id)]"
   ]
  },
  {
   "cell_type": "code",
   "execution_count": 30,
   "metadata": {},
   "outputs": [],
   "source": [
    "def read_emotion_features(emotion):\n",
    "    distance_features = []\n",
    "    angle_features = []\n",
    "    with open(f\"features/{emotion}.txt\", \"r\") as file:\n",
    "        for line in file:\n",
    "            feature = line.strip().split()\n",
    "            feature = [int(value) for value in feature[0][2:-1].split(\",\")]\n",
    "            if len(feature) == 2:\n",
    "                distance_features.append(feature)\n",
    "            else:\n",
    "                angle_features.append(feature)\n",
    "    return distance_features, angle_features\n",
    "\n",
    "\n",
    "def load_emotion_features():\n",
    "    emotions = [\"neutral\", \"anger\", \"disgust\", \"fear\", \"happiness\", \"sadness\", \"surprise\"]\n",
    "    emotion_features = {}\n",
    "    for emotion in emotions:\n",
    "        distance_features, angle_features = read_emotion_features(emotion)\n",
    "        emotion_features[emotion] = (distance_features, angle_features)\n",
    "    return emotion_features\n",
    "\n",
    "\n",
    "emotion_features = load_emotion_features()"
   ]
  },
  {
   "cell_type": "code",
   "execution_count": 31,
   "metadata": {},
   "outputs": [],
   "source": [
    "def euclidean_distance(a, b):\n",
    "    return np.sqrt((a[0] - b[0]) ** 2 + (a[1] - b[1]) ** 2)\n",
    "\n",
    "\n",
    "def smaller_angle(a, b, c):\n",
    "    a = np.array(a)\n",
    "    b = np.array(b)\n",
    "    c = np.array(c)\n",
    "    ba = a - b\n",
    "    bc = c - b\n",
    "    cosine = np.dot(ba, bc) / (np.linalg.norm(ba) * np.linalg.norm(bc))\n",
    "    return np.arccos(cosine) * 180 / np.pi\n",
    "\n",
    "\n",
    "def mid_point(a, b):\n",
    "    return [(a[0] + b[0]) / 2, (a[1] + b[1]) / 2]\n",
    "\n",
    "\n",
    "def get_face_width(data):\n",
    "    point1 = data[\"landmark_2\"].split(\" \")\n",
    "    point1 = [float(point1[0]), float(point1[1])]\n",
    "    point2 = data[\"landmark_16\"].split(\" \")\n",
    "    point2 = [float(point2[0]), float(point2[1])]\n",
    "    return euclidean_distance(point1, point2)\n",
    "\n",
    "\n",
    "def generate_distance_features(data, feature_emotion):\n",
    "    distance_features_template = emotion_features[feature_emotion][0]\n",
    "\n",
    "    distance_features = []\n",
    "    for feature in distance_features_template:\n",
    "        point1 = data[f\"landmark_{feature[0]}\"].split(\" \")\n",
    "        point1 = [float(point1[0]), float(point1[1])]\n",
    "        point2 = data[f\"landmark_{feature[1]}\"].split(\" \")\n",
    "        point2 = [float(point2[0]), float(point2[1])]\n",
    "\n",
    "        distance = euclidean_distance(point1, point2)\n",
    "        distance_features.append(distance)\n",
    "\n",
    "    if feature_emotion == \"neutral\":\n",
    "        point1 = data[\"landmark_37\"].split(\" \")\n",
    "        point1 = [float(point1[0]), float(point1[1])]\n",
    "        point2 = data[\"landmark_46\"].split(\" \")\n",
    "        point2 = [float(point2[0]), float(point2[1])]\n",
    "        point3 = data[\"landmark_9\"].split(\" \")\n",
    "        point3 = [float(point3[0]), float(point3[1])]\n",
    "\n",
    "        distance = euclidean_distance(mid_point(point1, point2), point3)\n",
    "        distance_features.append(distance)\n",
    "\n",
    "    distance_features = np.array(distance_features)\n",
    "    distance_features = distance_features / get_face_width(data)\n",
    "\n",
    "    return distance_features\n",
    "\n",
    "\n",
    "def generate_angle_features(data, feature_emotion):\n",
    "    angle_features_template = emotion_features[feature_emotion][1]\n",
    "\n",
    "    angle_features = []\n",
    "    for feature in angle_features_template:\n",
    "        point1 = data[f\"landmark_{feature[0]}\"].split(\" \")\n",
    "        point1 = [float(point1[0]), float(point1[1])]\n",
    "        point2 = data[f\"landmark_{feature[1]}\"].split(\" \")\n",
    "        point2 = [float(point2[0]), float(point2[1])]\n",
    "        point3 = data[f\"landmark_{feature[2]}\"].split(\" \")\n",
    "        point3 = [float(point3[0]), float(point3[1])]\n",
    "\n",
    "        angle = smaller_angle(point1, point2, point3)\n",
    "        angle_features.append(angle)\n",
    "\n",
    "    angle_features = np.array(angle_features)\n",
    "    angle_features = angle_features / 180\n",
    "\n",
    "    return angle_features"
   ]
  },
  {
   "cell_type": "code",
   "execution_count": 32,
   "metadata": {},
   "outputs": [],
   "source": [
    "def generate_features(data, feature_emotion, feature_type):\n",
    "    features = np.array([])\n",
    "\n",
    "    if feature_type == \"distance\" or feature_type == \"both\":\n",
    "        distance_features = generate_distance_features(data, feature_emotion)\n",
    "        features = np.concatenate((features, distance_features))\n",
    "\n",
    "    if feature_type == \"angle\" or feature_type == \"both\":\n",
    "        angle_features = generate_angle_features(data, feature_emotion)\n",
    "        features = np.concatenate((features, angle_features))\n",
    "\n",
    "    return features\n",
    "\n",
    "\n",
    "def get_features_from_df(df, feature_emotion, feature_type):\n",
    "    features = []\n",
    "    for index, row in df.iterrows():\n",
    "        features.append(generate_features(row, feature_emotion, feature_type))\n",
    "    return np.array(features)"
   ]
  },
  {
   "cell_type": "code",
   "execution_count": null,
   "metadata": {},
   "outputs": [],
   "source": []
  },
  {
   "cell_type": "code",
   "execution_count": 33,
   "metadata": {},
   "outputs": [],
   "source": [
    "features = get_features_from_df(df_ckplus_dataset[:1], \"neutral\", \"both\")"
   ]
  },
  {
   "cell_type": "code",
   "execution_count": 35,
   "metadata": {},
   "outputs": [
    {
     "data": {
      "text/plain": [
       "array([[0.32036478, 0.30411235, 0.59663813, 0.47326867, 0.47553256,\n",
       "        1.        , 0.20333555, 0.32334929, 0.75505264]])"
      ]
     },
     "execution_count": 35,
     "metadata": {},
     "output_type": "execute_result"
    }
   ],
   "source": [
    "features"
   ]
  },
  {
   "cell_type": "code",
   "execution_count": 36,
   "metadata": {},
   "outputs": [],
   "source": [
    "row = df_ckplus_dataset.iloc[0]"
   ]
  },
  {
   "cell_type": "code",
   "execution_count": 38,
   "metadata": {},
   "outputs": [
    {
     "data": {
      "text/plain": [
       "('280.10863 206.43671', '459.57889 196.31247', '382.36266 428.5127')"
      ]
     },
     "execution_count": 38,
     "metadata": {},
     "output_type": "execute_result"
    }
   ],
   "source": [
    "row[\"landmark_37\"], row[\"landmark_46\"], row[\"landmark_9\"]"
   ]
  },
  {
   "cell_type": "code",
   "execution_count": 41,
   "metadata": {},
   "outputs": [
    {
     "data": {
      "text/plain": [
       "('216.89078 254.86311', '518.15853 252.06194')"
      ]
     },
     "execution_count": 41,
     "metadata": {},
     "output_type": "execute_result"
    }
   ],
   "source": [
    "row[\"landmark_2\"], row[\"landmark_16\"]"
   ]
  }
 ],
 "metadata": {
  "kernelspec": {
   "display_name": "Python 3",
   "language": "python",
   "name": "python3"
  },
  "language_info": {
   "codemirror_mode": {
    "name": "ipython",
    "version": 3
   },
   "file_extension": ".py",
   "mimetype": "text/x-python",
   "name": "python",
   "nbconvert_exporter": "python",
   "pygments_lexer": "ipython3",
   "version": "3.11.5"
  }
 },
 "nbformat": 4,
 "nbformat_minor": 2
}
