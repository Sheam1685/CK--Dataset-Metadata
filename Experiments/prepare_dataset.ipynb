{
 "cells": [
  {
   "cell_type": "code",
   "execution_count": 82,
   "metadata": {},
   "outputs": [],
   "source": [
    "import pandas as pd"
   ]
  },
  {
   "cell_type": "code",
   "execution_count": 83,
   "metadata": {},
   "outputs": [],
   "source": [
    "df_ckplus_dataset = pd.read_csv('dataset/ckplus_dataset.csv')"
   ]
  },
  {
   "cell_type": "code",
   "execution_count": 84,
   "metadata": {},
   "outputs": [],
   "source": [
    "df_anger = df_ckplus_dataset[df_ckplus_dataset['peak_emotion'] == 'anger']\n",
    "df_contempt = df_ckplus_dataset[df_ckplus_dataset['peak_emotion'] == 'contempt']\n",
    "df_disgust = df_ckplus_dataset[df_ckplus_dataset['peak_emotion'] == 'disgust']\n",
    "df_fear = df_ckplus_dataset[df_ckplus_dataset['peak_emotion'] == 'fear']\n",
    "df_happiness = df_ckplus_dataset[df_ckplus_dataset['peak_emotion'] == 'happiness']\n",
    "df_sadness = df_ckplus_dataset[df_ckplus_dataset['peak_emotion'] == 'sadness']\n",
    "df_surprise = df_ckplus_dataset[df_ckplus_dataset['peak_emotion'] == 'surprise']"
   ]
  },
  {
   "cell_type": "code",
   "execution_count": 85,
   "metadata": {},
   "outputs": [],
   "source": [
    "anger_subjects = set(df_anger['subject_id'])\n",
    "contempt_subjects = set(df_contempt['subject_id'])\n",
    "disgust_subjects = set(df_disgust['subject_id'])\n",
    "fear_subjects = set(df_fear['subject_id'])\n",
    "happiness_subjects = set(df_happiness['subject_id'])\n",
    "sadness_subjects = set(df_sadness['subject_id'])\n",
    "surprise_subjects = set(df_surprise['subject_id'])"
   ]
  },
  {
   "cell_type": "code",
   "execution_count": 86,
   "metadata": {},
   "outputs": [
    {
     "name": "stdout",
     "output_type": "stream",
     "text": [
      "Anger subjects:\t\t 58 (45)\n",
      "Contempt subjects:\t 26 (18)\n",
      "Disgust subjects:\t 72 (59)\n",
      "Fear subjects:\t\t 55 (25)\n",
      "Happiness subjects:\t 90 (69)\n",
      "Sadness subjects:\t 67 (28)\n",
      "Surprise subjects:\t 92 (83)\n"
     ]
    }
   ],
   "source": [
    "print('Anger subjects:\\t\\t', len(anger_subjects), \"(45)\")\n",
    "print('Contempt subjects:\\t', len(contempt_subjects), \"(18)\")\n",
    "print('Disgust subjects:\\t', len(disgust_subjects), \"(59)\")\n",
    "print('Fear subjects:\\t\\t', len(fear_subjects), \"(25)\")\n",
    "print('Happiness subjects:\\t', len(happiness_subjects), \"(69)\")\n",
    "print('Sadness subjects:\\t', len(sadness_subjects), \"(28)\")\n",
    "print('Surprise subjects:\\t', len(surprise_subjects), \"(83)\")"
   ]
  },
  {
   "cell_type": "code",
   "execution_count": 87,
   "metadata": {},
   "outputs": [],
   "source": [
    "# df_anger.to_csv('dataset/anger_all.csv', index=False)\n",
    "# df_contempt.to_csv('dataset/contempt_all.csv', index=False)\n",
    "# df_disgust.to_csv('dataset/disgust_all.csv', index=False)\n",
    "# df_fear.to_csv('dataset/fear_all.csv', index=False)\n",
    "# df_happiness.to_csv('dataset/happiness_all.csv', index=False)\n",
    "# df_sadness.to_csv('dataset/sadness_all.csv', index=False)\n",
    "# df_surprise.to_csv('dataset/surprise_all.csv', index=False)"
   ]
  },
  {
   "cell_type": "code",
   "execution_count": 88,
   "metadata": {},
   "outputs": [],
   "source": [
    "def filter_dataset(df):\n",
    "    df = df.copy()\n",
    "\n",
    "    df1 = (\n",
    "        df[[\"subject_id\", \"session_id\", \"peak_emotion\", \"ckplus_labelled\"]]\n",
    "        .drop_duplicates()\n",
    "        .reset_index(drop=True)\n",
    "    )\n",
    "    counts = (\n",
    "        df.groupby([\"subject_id\", \"session_id\"])\n",
    "        .size()\n",
    "        .reset_index(name=\"count\")[\"count\"]\n",
    "        .values.tolist()\n",
    "    )\n",
    "    df1[\"count\"] = counts\n",
    "\n",
    "    subject_ids = df1[\"subject_id\"].unique()\n",
    "    keep = []\n",
    "    for subject_id in subject_ids:\n",
    "        df2 = df1[df1[\"subject_id\"] == subject_id]\n",
    "\n",
    "        # print(subject_id)\n",
    "        # print(df2.values)\n",
    "\n",
    "        keeping = None\n",
    "        for subject_id, session_id, peak_emotion, ckplus_labelled, count in df2.values:\n",
    "            if ckplus_labelled == 1:\n",
    "                keeping = (subject_id, session_id)\n",
    "                break\n",
    "\n",
    "        if keeping is None:\n",
    "            (subject_id, session_id, peak_emotion, ckplus_labelled, count) = df2[\n",
    "                df2[\"count\"] == df2[\"count\"].max()\n",
    "            ].values[0]\n",
    "            keeping = (subject_id, session_id)\n",
    "\n",
    "        # print(keeping)\n",
    "        keep.append(keeping)\n",
    "        # print()\n",
    "\n",
    "    df_filtered = df1[df1[[\"subject_id\", \"session_id\"]].apply(tuple, axis=1).isin(keep)].reset_index(drop=True)\n",
    "    df_filtered = df_filtered.sort_values(\n",
    "        by=[\"ckplus_labelled\", \"count\"], ascending=[False, False]\n",
    "    ).reset_index(drop=True)\n",
    "\n",
    "    return df_filtered"
   ]
  },
  {
   "cell_type": "code",
   "execution_count": 89,
   "metadata": {},
   "outputs": [],
   "source": [
    "df_filtered_anger = filter_dataset(df_anger)\n",
    "df_filtered_contempt = filter_dataset(df_contempt)\n",
    "df_filtered_disgust = filter_dataset(df_disgust)\n",
    "df_filtered_fear = filter_dataset(df_fear)\n",
    "df_filtered_happiness = filter_dataset(df_happiness)\n",
    "df_filtered_sadness = filter_dataset(df_sadness)\n",
    "df_filtered_surprise = filter_dataset(df_surprise)"
   ]
  },
  {
   "cell_type": "code",
   "execution_count": 90,
   "metadata": {},
   "outputs": [
    {
     "name": "stdout",
     "output_type": "stream",
     "text": [
      "Filtered Anger subjects:\t 58 (45)\n",
      "Filtered Contempt subjects:\t 26 (18)\n",
      "Filtered Disgust subjects:\t 72 (59)\n",
      "Filtered Fear subjects:\t\t 55 (25)\n",
      "Filtered Happiness subjects:\t 90 (69)\n",
      "Filtered Sadness subjects:\t 67 (28)\n",
      "Filtered Surprise subjects:\t 92 (83)\n"
     ]
    }
   ],
   "source": [
    "print(\"Filtered Anger subjects:\\t\", len(df_filtered_anger), \"(45)\")\n",
    "print(\"Filtered Contempt subjects:\\t\", len(df_filtered_contempt), \"(18)\")\n",
    "print(\"Filtered Disgust subjects:\\t\", len(df_filtered_disgust), \"(59)\")\n",
    "print(\"Filtered Fear subjects:\\t\\t\", len(df_filtered_fear), \"(25)\")\n",
    "print(\"Filtered Happiness subjects:\\t\", len(df_filtered_happiness), \"(69)\")\n",
    "print(\"Filtered Sadness subjects:\\t\", len(df_filtered_sadness), \"(28)\")\n",
    "print(\"Filtered Surprise subjects:\\t\", len(df_filtered_surprise), \"(83)\")\n"
   ]
  },
  {
   "cell_type": "code",
   "execution_count": 91,
   "metadata": {},
   "outputs": [],
   "source": [
    "df_filtered_anger.to_csv(\"dataset/anger_filtered.csv\", index=False)\n",
    "df_filtered_contempt.to_csv(\"dataset/contempt_filtered.csv\", index=False)\n",
    "df_filtered_disgust.to_csv(\"dataset/disgust_filtered.csv\", index=False)\n",
    "df_filtered_fear.to_csv(\"dataset/fear_filtered.csv\", index=False)\n",
    "df_filtered_happiness.to_csv(\"dataset/happiness_filtered.csv\", index=False)\n",
    "df_filtered_sadness.to_csv(\"dataset/sadness_filtered.csv\", index=False)\n",
    "df_filtered_surprise.to_csv(\"dataset/surprise_filtered.csv\", index=False)"
   ]
  }
 ],
 "metadata": {
  "kernelspec": {
   "display_name": "Python 3",
   "language": "python",
   "name": "python3"
  },
  "language_info": {
   "codemirror_mode": {
    "name": "ipython",
    "version": 3
   },
   "file_extension": ".py",
   "mimetype": "text/x-python",
   "name": "python",
   "nbconvert_exporter": "python",
   "pygments_lexer": "ipython3",
   "version": "3.11.5"
  }
 },
 "nbformat": 4,
 "nbformat_minor": 2
}
