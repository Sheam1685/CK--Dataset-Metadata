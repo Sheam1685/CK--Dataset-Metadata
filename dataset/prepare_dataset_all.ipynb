{
 "cells": [
  {
   "cell_type": "code",
   "execution_count": 1,
   "metadata": {},
   "outputs": [],
   "source": [
    "import pandas as pd"
   ]
  },
  {
   "cell_type": "code",
   "execution_count": 2,
   "metadata": {},
   "outputs": [],
   "source": [
    "df = pd.read_csv('dataset/ckplus_dataset.csv')"
   ]
  },
  {
   "cell_type": "code",
   "execution_count": 4,
   "metadata": {},
   "outputs": [],
   "source": [
    "df_ha = df[df['peak_emotion'] == 'happiness']\n",
    "df_su = df[df['peak_emotion'] == 'surprise']\n",
    "df_an = df[df['peak_emotion'] == 'anger']\n",
    "df_sa = df[df['peak_emotion'] == 'sadness']\n",
    "df_di = df[df['peak_emotion'] == 'disgust']"
   ]
  },
  {
   "cell_type": "code",
   "execution_count": 5,
   "metadata": {},
   "outputs": [],
   "source": [
    "ha_subjects = set(df_ha['subject_id'])\n",
    "su_subjects = set(df_su['subject_id'])\n",
    "an_subjects = set(df_an['subject_id'])\n",
    "sa_subjects = set(df_sa['subject_id'])\n",
    "di_subjects = set(df_di['subject_id'])"
   ]
  },
  {
   "cell_type": "code",
   "execution_count": 6,
   "metadata": {},
   "outputs": [
    {
     "data": {
      "text/plain": [
       "(90, 92, 58, 67, 72)"
      ]
     },
     "execution_count": 6,
     "metadata": {},
     "output_type": "execute_result"
    }
   ],
   "source": [
    "len(ha_subjects), len(su_subjects), len(an_subjects), len(sa_subjects), len(di_subjects)"
   ]
  },
  {
   "cell_type": "code",
   "execution_count": 7,
   "metadata": {},
   "outputs": [],
   "source": [
    "df_ha.to_csv('happiness_all.csv', index=False)\n",
    "df_su.to_csv('surprise_all.csv', index=False)\n",
    "df_an.to_csv('anger_all.csv', index=False)\n",
    "df_sa.to_csv('sadness_all.csv', index=False)\n",
    "df_di.to_csv('disgust_all.csv', index=False)"
   ]
  },
  {
   "cell_type": "code",
   "execution_count": 8,
   "metadata": {},
   "outputs": [
    {
     "name": "stdout",
     "output_type": "stream",
     "text": [
      "Happiness: 90\n",
      "Surprise: 92\n",
      "Anger: 58\n",
      "Sadness: 67\n",
      "Disgust: 72\n"
     ]
    }
   ],
   "source": [
    "print('Happiness:', len(df_ha['subject_id'].unique()))\n",
    "print(\"Surprise:\", len(df_su[\"subject_id\"].unique()))\n",
    "print(\"Anger:\", len(df_an[\"subject_id\"].unique()))\n",
    "print(\"Sadness:\", len(df_sa[\"subject_id\"].unique()))\n",
    "print(\"Disgust:\", len(df_di[\"subject_id\"].unique()))"
   ]
  }
 ],
 "metadata": {
  "kernelspec": {
   "display_name": "Python 3",
   "language": "python",
   "name": "python3"
  },
  "language_info": {
   "codemirror_mode": {
    "name": "ipython",
    "version": 3
   },
   "file_extension": ".py",
   "mimetype": "text/x-python",
   "name": "python",
   "nbconvert_exporter": "python",
   "pygments_lexer": "ipython3",
   "version": "3.11.3"
  }
 },
 "nbformat": 4,
 "nbformat_minor": 2
}
