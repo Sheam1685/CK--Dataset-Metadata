{
 "cells": [
  {
   "cell_type": "code",
   "execution_count": 51,
   "metadata": {
    "metadata": {}
   },
   "outputs": [],
   "source": [
    "# Load the df from ckplus_dataset.csv\n",
    "\n",
    "import pandas as pd\n",
    "import numpy as np\n",
    "import os\n",
    "\n",
    "df = pd.read_csv('ckplus_dataset.csv')"
   ]
  },
  {
   "cell_type": "code",
   "execution_count": 53,
   "metadata": {
    "metadata": {}
   },
   "outputs": [
    {
     "name": "stdout",
     "output_type": "stream",
     "text": [
      "subject_id                        S022\n",
      "session_id                           5\n",
      "image_id                            31\n",
      "peak_emotion                     anger\n",
      "ckplus_labelled                      1\n",
      "                          ...         \n",
      "landmark_64        366.75939 293.84635\n",
      "landmark_65         377.06463 295.2418\n",
      "landmark_66         366.3825 294.79421\n",
      "landmark_67        356.11855 297.15064\n",
      "landmark_68        345.21262 295.74743\n",
      "Name: 457, Length: 73, dtype: object\n"
     ]
    }
   ],
   "source": [
    "# Take any random row from the df for testing\n",
    "# In implementation, do this for all rows in the df\n",
    "\n",
    "while True:\n",
    "  sample_id = np.random.randint(0, len(df))\n",
    "  sample = df.iloc[sample_id]\n",
    "  emotion = sample['peak_emotion']\n",
    "  \n",
    "  if f'{emotion}.txt' in os.listdir():\n",
    "    print(sample)\n",
    "    break\n",
    "\n",
    "line_features = []\n",
    "angle_features = []\n",
    "with open(f'{emotion}.txt', 'r') as file:\n",
    "    for line in file:\n",
    "        feature = line.strip().split()\n",
    "        feature = [int(value) for value in feature[0][2:-1].split(',')]\n",
    "        if len(feature) == 2:\n",
    "            line_features.append(feature)\n",
    "        else:\n",
    "            angle_features.append(feature)"
   ]
  },
  {
   "cell_type": "code",
   "execution_count": 54,
   "metadata": {
    "metadata": {}
   },
   "outputs": [],
   "source": [
    "def euclidean_distance(a, b):\n",
    "    return np.sqrt((a[0] - b[0])**2 + (a[1] - b[1])**2)\n",
    "\n",
    "def smaller_angle(a, b, c):\n",
    "    a = np.array(a)\n",
    "    b = np.array(b)\n",
    "    c = np.array(c)\n",
    "    ba = a - b\n",
    "    bc = c - b\n",
    "    cosine_angle = np.dot(ba, bc) / (np.linalg.norm(ba) * np.linalg.norm(bc))\n",
    "    # return in degrees. remove the * 180 / np.pi to return in radians\n",
    "    return np.arccos(cosine_angle) * 180 / np.pi"
   ]
  },
  {
   "cell_type": "code",
   "execution_count": 55,
   "metadata": {
    "metadata": {}
   },
   "outputs": [],
   "source": [
    "distances = []\n",
    "angles = []\n",
    "\n",
    "for feature in line_features:\n",
    "    point1 = sample[f'landmark_{feature[0]}'].split(' ')\n",
    "    point1 = [float(point1[0]), float(point1[1])]\n",
    "    point2 = sample[f'landmark_{feature[1]}'].split(' ')\n",
    "    point2 = [float(point2[0]), float(point2[1])]\n",
    "    \n",
    "    distance = euclidean_distance(point1, point2)\n",
    "    # print(f'Distance between {feature[0]} and {feature[1]}: {distance}')\n",
    "    distances.append(distance)\n",
    "    \n",
    "for feature in angle_features:\n",
    "    point1 = sample[f'landmark_{feature[0]}'].split(' ')\n",
    "    point1 = [float(point1[0]), float(point1[1])]\n",
    "    point2 = sample[f'landmark_{feature[1]}'].split(' ')\n",
    "    point2 = [float(point2[0]), float(point2[1])]\n",
    "    point3 = sample[f'landmark_{feature[2]}'].split(' ')\n",
    "    point3 = [float(point3[0]), float(point3[1])]\n",
    "    \n",
    "    angle = smaller_angle(point1, point2, point3)\n",
    "    # print(f'Angle between {feature[0]}, {feature[1]} and {feature[2]}: {angle}')\n",
    "    angles.append(angle)\n",
    "    \n",
    "# print(distances, angles)"
   ]
  },
  {
   "cell_type": "code",
   "execution_count": 56,
   "metadata": {
    "metadata": {}
   },
   "outputs": [
    {
     "name": "stdout",
     "output_type": "stream",
     "text": [
      "  subject_id  session_id  image_id peak_emotion  ckplus_labelled  \\\n",
      "0       S022           5        31        anger                1   \n",
      "\n",
      "                                           distances  \\\n",
      "0  [12.77147026008358, 14.20876182255161, 33.8431...   \n",
      "\n",
      "                                              angles  \n",
      "0  [60.308644871495765, 59.13928037749884, 62.575...  \n"
     ]
    }
   ],
   "source": [
    "# create new df with columns subject_id,session_id,image_id,peak_emotion,ckplus_labelled, distances, angles\n",
    "\n",
    "data = []\n",
    "data.append([sample['subject_id'], sample['session_id'], sample['image_id'], sample['peak_emotion'], sample['ckplus_labelled'], distances, angles])\n",
    "\n",
    "new_df = pd.DataFrame(data, columns=['subject_id', 'session_id', 'image_id', 'peak_emotion', 'ckplus_labelled', 'distances', 'angles'])\n",
    "\n",
    "print(new_df)"
   ]
  }
 ],
 "metadata": {
  "kernelspec": {
   "display_name": "Python 3",
   "language": "python",
   "name": "python3"
  },
  "language_info": {
   "codemirror_mode": {
    "name": "ipython",
    "version": 3
   },
   "file_extension": ".py",
   "mimetype": "text/x-python",
   "name": "python",
   "nbconvert_exporter": "python",
   "pygments_lexer": "ipython3",
   "version": "3.11.3"
  }
 },
 "nbformat": 4,
 "nbformat_minor": 2
}
